{
 "cells": [
  {
   "cell_type": "markdown",
   "metadata": {},
   "source": [
    "# Markov Chain\n"
   ]
  },
  {
   "cell_type": "markdown",
   "metadata": {},
   "source": [
    "## Definition\n",
    "1. 각 노드는 여러개의 state 를 가질 수 있는 Random variable 이다. \n",
    "1. 각 링크는 전이 확률을 갖는다. \n",
    "  - ex. $P(z_j|z_i)=\n",
    "  \\left[ {\\begin{array}{cc}\n",
    "   0.7 & 0.2 & 0.1 \\\\\n",
    "   0.2 & 0.3 & 0.5\\\\\n",
    "   0.4 & 0.2 & 0.4\\\\\n",
    "  \\end{array} } \\right]$"
   ]
  },
  {
   "cell_type": "markdown",
   "metadata": {},
   "source": [
    "## Properties\n",
    "1. Accessible\n",
    "  - accessible : i 에서 j로 갈 수 있다. \n",
    "  - communicate : 양방향으로 갈 수 있다. \n",
    "1. Reducibility\n",
    "  - communicate 하고 i 도 j도  S 안에 있으면 irreducible. \n",
    "  - 지속 적으로 이동 가능함. \n",
    "1. Periodicity\n",
    "  - 어떤 주기를 갖고 state i 에 방문함.\n",
    "  - 주기가 1이면 aperiodic 이라고 본다.\n",
    "1. Transience\n",
    "  - Transient 하지 않으면 recurrent : 어떤 state 가 다시 일어날 수 있다. (반드시 다시 등장한다.)\n",
    "  - Transient 하면 그 state가 다시 등장하지 않는다. \n",
    "1. Ergodicity\n",
    "  - recurrent + aperiodic = ergodic.\n",
    "  - 모든 state가 ergodic 하면 markov chain 이 ergodic 하다고 한다."
   ]
  },
  {
   "cell_type": "markdown",
   "metadata": {},
   "source": [
    "## Stationary Distribution\n",
    "\n",
    "1. Return time\n",
    "  - $RT_i = \\min{\\{n >0 : X_n = i | X_0 = i}\\}$\n",
    "  - state i 에 방문한 후에 다시 i 에 방문하는데까지 걸리는 최소 시간\n",
    "1. Limit theorem of Markov chain\n",
    "  - 만약 Markov chain 이 irreducible and ergodic 하다면, \n",
    "  - $\\pi_i $ : 어떤 특정 state 에 이 시스템이 있을 확률 분포 == stationary distribution \n",
    "  - $\\pi T = \\pi = \\frac{1}{E[RT]}$\n",
    "  \n",
    "1. 다음 공식을 통해 Transition Matrix 만 있으면 stationary distribution 을 구할 수 있다.\n",
    "\n",
    "1. reversible MC $\\rightarrow$ $\\pi$ is a stationary distribution \n",
    "  - $\\pi_i T_{i, j} = \\pi_j T_{j, i}$"
   ]
  },
  {
   "cell_type": "markdown",
   "metadata": {},
   "source": [
    "## Markov Chain for Sampling\n",
    "\n",
    "1. Importance sampling, rejection sampling, forward sampling 의 문제는 모든 샘플링이 독립이라고 보기 때문에, 이전 레코드들을 사용하지 않는다는 것이다.\n",
    "1. 기존 정보를 활용해서 그 다음 Z 의 assignment 을 하겠다. \n"
   ]
  },
  {
   "cell_type": "markdown",
   "metadata": {},
   "source": [
    "## MC vs Markov Chain Monte Carlo\n",
    "\n",
    "1. MC\n",
    "  1. Transition rule 이 주어지고, stationary distribution 을 찾는 것이 주된 태스크였다.\n",
    "\n",
    "1. MCMC\n",
    "  1. Target stationary distribution $\\pi$ 가 이미 알려져있다고 생각한다.\n",
    "  1. 이걸 만드는 Transition rule 은 무엇인가에 관심이 있다.\n",
    "  1. 이 Transition matrix 로부터 계속 샘플링 해서 원하는 stationary distribution 이 되는지 보면서 transition matrix 의 값을 바꿔나간다. \n"
   ]
  },
  {
   "cell_type": "markdown",
   "metadata": {},
   "source": [
    "## Conjugate Prior\n",
    "- Likelihood and prior multiplication results in the prior distribution.\n",
    "- Dirichlet distribution is the conjuget prior of the multinomial distribution.\n",
    "- Enables sum to one technique."
   ]
  },
  {
   "cell_type": "code",
   "execution_count": null,
   "metadata": {},
   "outputs": [],
   "source": []
  },
  {
   "cell_type": "markdown",
   "metadata": {},
   "source": [
    "## Markov Chain Example\n",
    "\n"
   ]
  },
  {
   "cell_type": "code",
   "execution_count": 210,
   "metadata": {},
   "outputs": [],
   "source": [
    "import numpy as np\n",
    "import random as rm\n",
    "\n",
    "trans_matrix = np.array([[0.2,0.6,0.2],\n",
    "                         [0.1,0.6,0.3],\n",
    "                         [0.2,0.7,0.1]])"
   ]
  },
  {
   "cell_type": "code",
   "execution_count": 201,
   "metadata": {},
   "outputs": [],
   "source": [
    "def transient(timestep, start_state, trans_matrix):\n",
    "    num_of_state = len(trans_matrix)\n",
    "    state = start_state\n",
    "    for i in range(timestep):\n",
    "        state = np.random.choice(num_of_state, p=trans_matrix[state])\n",
    "    return state\n",
    "\n",
    "\n",
    "def get_prob_by_montecarlo(start_state, end_state, timestep, trial=10000):\n",
    "    count = 0.0\n",
    "    for i in range(trial):\n",
    "        last_state = transient(timestep, start_state, trans_matrix)\n",
    "        if end_state == last_state:\n",
    "            count += 1\n",
    "    return count / trial\n",
    "\n",
    "\n",
    "def get_prob_by_calc(start_state, end_state, timestep):\n",
    "    prob = mat_pow(trans_matrix, timestep)[start_state, end_state]\n",
    "    return prob\n",
    "\n",
    "\n",
    "def mat_pow(A, num):\n",
    "    ret = A\n",
    "    for i in range(num-1):\n",
    "        ret = np.matmul(ret, trans_matrix)\n",
    "    return ret"
   ]
  },
  {
   "cell_type": "markdown",
   "metadata": {},
   "source": [
    "ss -> sr = 0.2 * 0.2   \n",
    "si -> ir = 0.6 * 0.3   \n",
    "sr -> rr = 0.2 * 0.1   "
   ]
  },
  {
   "cell_type": "code",
   "execution_count": 160,
   "metadata": {},
   "outputs": [
    {
     "data": {
      "text/plain": [
       "0.24"
      ]
     },
     "execution_count": 160,
     "metadata": {},
     "output_type": "execute_result"
    }
   ],
   "source": [
    "0.2 * 0.2 + 0.6 * 0.3 + 0.2 * 0.1"
   ]
  },
  {
   "cell_type": "code",
   "execution_count": 220,
   "metadata": {},
   "outputs": [
    {
     "data": {
      "text/plain": [
       "(0.24023, 0.24)"
      ]
     },
     "execution_count": 220,
     "metadata": {},
     "output_type": "execute_result"
    }
   ],
   "source": [
    "# Q1.\n",
    "start_state = 0\n",
    "end_state = 2\n",
    "timestep = 2\n",
    "\n",
    "get_prob_by_montecarlo(start_state, end_state, timestep, trial=100000),\\\n",
    "get_prob_by_calc(start_state, end_state, timestep)"
   ]
  },
  {
   "cell_type": "code",
   "execution_count": 221,
   "metadata": {},
   "outputs": [
    {
     "data": {
      "text/plain": [
       "(0.1392, 0.13761468049999998)"
      ]
     },
     "execution_count": 221,
     "metadata": {},
     "output_type": "execute_result"
    }
   ],
   "source": [
    "# Q2.\n",
    "start_state = 1\n",
    "end_state = 0\n",
    "timestep = 10\n",
    "\n",
    "get_prob_by_montecarlo(start_state, end_state, timestep, trial=20000),\\\n",
    "get_prob_by_calc(start_state, end_state, timestep)"
   ]
  },
  {
   "cell_type": "code",
   "execution_count": 224,
   "metadata": {},
   "outputs": [
    {
     "data": {
      "text/plain": [
       "(0.13405, 0.13761467889913798)"
      ]
     },
     "execution_count": 224,
     "metadata": {},
     "output_type": "execute_result"
    }
   ],
   "source": [
    "# Q3.\n",
    "start_state = 0\n",
    "end_state = 0\n",
    "timestep = 15\n",
    "\n",
    "get_prob_by_montecarlo(start_state, end_state, timestep, trial=20000),\\\n",
    "get_prob_by_calc(start_state, end_state, timestep)"
   ]
  },
  {
   "cell_type": "code",
   "execution_count": 222,
   "metadata": {},
   "outputs": [
    {
     "data": {
      "text/plain": [
       "(0.1349, 0.13761467889890497)"
      ]
     },
     "execution_count": 222,
     "metadata": {},
     "output_type": "execute_result"
    }
   ],
   "source": [
    "# Q3.\n",
    "start_state = 1\n",
    "end_state = 0\n",
    "timestep = 15\n",
    "\n",
    "get_prob_by_montecarlo(start_state, end_state, timestep, trial=20000),\\\n",
    "get_prob_by_calc(start_state, end_state, timestep)"
   ]
  },
  {
   "cell_type": "code",
   "execution_count": 223,
   "metadata": {},
   "outputs": [
    {
     "data": {
      "text/plain": [
       "(0.1352, 0.13761467889951495)"
      ]
     },
     "execution_count": 223,
     "metadata": {},
     "output_type": "execute_result"
    }
   ],
   "source": [
    "# Q3.\n",
    "start_state = 2\n",
    "end_state = 0\n",
    "timestep = 15\n",
    "\n",
    "get_prob_by_montecarlo(start_state, end_state, timestep, trial=20000),\\\n",
    "get_prob_by_calc(start_state, end_state, timestep)"
   ]
  },
  {
   "cell_type": "code",
   "execution_count": 306,
   "metadata": {},
   "outputs": [],
   "source": []
  },
  {
   "cell_type": "code",
   "execution_count": 374,
   "metadata": {},
   "outputs": [
    {
     "name": "stdout",
     "output_type": "stream",
     "text": [
      "[-0.20180184 -0.914835   -0.34978985] [-0.20180184 -0.914835   -0.34978985]\n",
      "0.13761467889908252\n"
     ]
    }
   ],
   "source": [
    "# Q3. \n",
    "evalues, evectors = np.linalg.eig(trans_matrix.T)\n",
    "for idx, ev in enumerate(evalues):\n",
    "    if np.isclose(ev, 1.0):\n",
    "        break\n",
    "print(np.matmul(evectors[:, idx], trans_matrix), evalues[idx] * evectors[:, idx])\n",
    "prob = evectors[:, idx]/np.sum(evectors[:, idx])\n",
    "print(prob[0])"
   ]
  },
  {
   "cell_type": "code",
   "execution_count": 372,
   "metadata": {},
   "outputs": [],
   "source": []
  },
  {
   "cell_type": "code",
   "execution_count": null,
   "metadata": {},
   "outputs": [],
   "source": []
  }
 ],
 "metadata": {
  "kernelspec": {
   "display_name": "Python 3",
   "language": "python",
   "name": "python3"
  },
  "language_info": {
   "codemirror_mode": {
    "name": "ipython",
    "version": 3
   },
   "file_extension": ".py",
   "mimetype": "text/x-python",
   "name": "python",
   "nbconvert_exporter": "python",
   "pygments_lexer": "ipython3",
   "version": "3.5.2"
  }
 },
 "nbformat": 4,
 "nbformat_minor": 2
}
