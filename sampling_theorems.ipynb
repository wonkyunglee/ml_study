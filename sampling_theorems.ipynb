{
 "cells": [
  {
   "cell_type": "code",
   "execution_count": 1,
   "metadata": {},
   "outputs": [],
   "source": [
    "import numpy as np\n",
    "import matplotlib.pyplot as plt\n",
    "%matplotlib inline"
   ]
  },
  {
   "cell_type": "code",
   "execution_count": null,
   "metadata": {},
   "outputs": [],
   "source": []
  },
  {
   "cell_type": "markdown",
   "metadata": {},
   "source": [
    "# Prepare Distributions and PDFs"
   ]
  },
  {
   "cell_type": "code",
   "execution_count": 2,
   "metadata": {},
   "outputs": [],
   "source": [
    "std = 5\n",
    "mean = 10\n",
    "p = lambda : mean + std * np.random.randn()\n",
    "p_v = lambda x: 1.0/(std * np.sqrt(2 * np.pi)) * np.exp(-(np.power((x-mean) / std, 2) )/2)"
   ]
  },
  {
   "cell_type": "code",
   "execution_count": 3,
   "metadata": {},
   "outputs": [
    {
     "name": "stdout",
     "output_type": "stream",
     "text": [
      "mean of p : 9.987238, std of p : 4.970198\n"
     ]
    },
    {
     "data": {
      "image/png": "[encoded data removed]",
      "text/plain": [
       "<matplotlib.figure.Figure at 0x7f96046cb278>"
      ]
     },
     "metadata": {},
     "output_type": "display_data"
    }
   ],
   "source": [
    "sampled = []\n",
    "for i in range(10000):\n",
    "    sampled.append(p())\n",
    "_ = plt.hist(sampled, 100)\n",
    "print('mean of p : %f, std of p : %f'%(np.mean(sampled), np.std(sampled)))"
   ]
  },
  {
   "cell_type": "code",
   "execution_count": 4,
   "metadata": {},
   "outputs": [],
   "source": [
    "std_q = 12\n",
    "mean_q = 14\n",
    "q = lambda : mean_q + std_q * np.random.randn()\n",
    "q_v = lambda x: 1.0/(std_q * np.sqrt(2 * np.pi)) * np.exp(-(np.power((x-mean_q) / std_q, 2) )/2)"
   ]
  },
  {
   "cell_type": "code",
   "execution_count": 5,
   "metadata": {
    "scrolled": false
   },
   "outputs": [
    {
     "name": "stdout",
     "output_type": "stream",
     "text": [
      "mean of q : 13.999716, std of q : 11.985149\n"
     ]
    },
    {
     "data": {
      "image/png": "[encoded data removed]",
      "text/plain": [
       "<matplotlib.figure.Figure at 0x7f960474ca20>"
      ]
     },
     "metadata": {},
     "output_type": "display_data"
    }
   ],
   "source": [
    "sampled = []\n",
    "for i in range(10000):\n",
    "    sampled.append(q())\n",
    "_ = plt.hist(sampled, 100)\n",
    "print('mean of q : %f, std of q : %f'%(np.mean(sampled), np.std(sampled)))"
   ]
  },
  {
   "cell_type": "code",
   "execution_count": null,
   "metadata": {},
   "outputs": [],
   "source": []
  },
  {
   "cell_type": "markdown",
   "metadata": {},
   "source": [
    "# Rejection Sampling"
   ]
  },
  {
   "cell_type": "code",
   "execution_count": 6,
   "metadata": {},
   "outputs": [],
   "source": [
    "def rejection_sampling(q, p_v, q_v, k=5):\n",
    "    k = 5\n",
    "    ret = []\n",
    "    N = 10000\n",
    "    for i in range(N):\n",
    "        sampled_q = q()\n",
    "        sampled_u = np.random.uniform(low=0.0, high = k* q_v(sampled_q))\n",
    "        if sampled_u < p_v(sampled_q):\n",
    "            ret.append(sampled_q) # accept\n",
    "        else:\n",
    "            pass # reject\n",
    "    return ret"
   ]
  },
  {
   "cell_type": "code",
   "execution_count": 7,
   "metadata": {},
   "outputs": [],
   "source": [
    "sampled = rejection_sampling(q, p_v, q_v, k=5)"
   ]
  },
  {
   "cell_type": "code",
   "execution_count": 8,
   "metadata": {},
   "outputs": [
    {
     "data": {
      "text/plain": [
       "(10.008896094665797, 4.964092803248593)"
      ]
     },
     "execution_count": 8,
     "metadata": {},
     "output_type": "execute_result"
    }
   ],
   "source": [
    "np.mean(sampled), np.std(sampled)"
   ]
  },
  {
   "cell_type": "code",
   "execution_count": 9,
   "metadata": {},
   "outputs": [
    {
     "data": {
      "image/png": "[encoded data removed]",
      "text/plain": [
       "<matplotlib.figure.Figure at 0x7f96046cb518>"
      ]
     },
     "metadata": {},
     "output_type": "display_data"
    }
   ],
   "source": [
    "_ = plt.hist(sampled, 100)"
   ]
  },
  {
   "cell_type": "code",
   "execution_count": null,
   "metadata": {},
   "outputs": [],
   "source": []
  },
  {
   "cell_type": "markdown",
   "metadata": {},
   "source": [
    "# Importance Sampling"
   ]
  },
  {
   "cell_type": "code",
   "execution_count": 10,
   "metadata": {},
   "outputs": [],
   "source": [
    "def f(x):\n",
    "    return (x - 2) / 4\n",
    "\n",
    "def expectation(f, p):\n",
    "    N = 10000\n",
    "    ret = 0.0\n",
    "    for i in range(N):\n",
    "        ret += f(p())\n",
    "    ret /= N\n",
    "    return ret"
   ]
  },
  {
   "cell_type": "code",
   "execution_count": 11,
   "metadata": {},
   "outputs": [
    {
     "data": {
      "text/plain": [
       "2.0119798437844674"
      ]
     },
     "execution_count": 11,
     "metadata": {},
     "output_type": "execute_result"
    }
   ],
   "source": [
    "expectation(f, p)"
   ]
  },
  {
   "cell_type": "markdown",
   "metadata": {},
   "source": [
    "importance sampling : $ E_{x \\text{~} P(X)}\\left[ f(x) \\right] = E_{x \\text{~} Q(X)}\\left[ \\frac{P(x)}{Q(x)} f(x) \\right] $ "
   ]
  },
  {
   "cell_type": "code",
   "execution_count": 12,
   "metadata": {},
   "outputs": [],
   "source": [
    "def importance_sampling(f, p_v, q_v, q):\n",
    "    N = 10000\n",
    "    ret = 0.0\n",
    "    for i in range(N):\n",
    "        sampled_q = q()\n",
    "        importance_weight = p_v(sampled_q) / q_v(sampled_q)\n",
    "        ret += importance_weight * f(sampled_q)\n",
    "    ret /= N\n",
    "    return ret"
   ]
  },
  {
   "cell_type": "code",
   "execution_count": 13,
   "metadata": {},
   "outputs": [
    {
     "data": {
      "text/plain": [
       "1.9986658303257685"
      ]
     },
     "execution_count": 13,
     "metadata": {},
     "output_type": "execute_result"
    }
   ],
   "source": [
    "importance_sampling(f, p_v, q_v, q)"
   ]
  },
  {
   "cell_type": "code",
   "execution_count": 14,
   "metadata": {},
   "outputs": [
    {
     "data": {
      "text/plain": [
       "(3.008358669238771, 1.9839379100864092)"
      ]
     },
     "execution_count": 14,
     "metadata": {},
     "output_type": "execute_result"
    }
   ],
   "source": [
    "expectation(f, q), expectation(f, p)"
   ]
  },
  {
   "cell_type": "code",
   "execution_count": null,
   "metadata": {},
   "outputs": [],
   "source": []
  },
  {
   "cell_type": "code",
   "execution_count": null,
   "metadata": {},
   "outputs": [],
   "source": []
  }
 ],
 "metadata": {
  "kernelspec": {
   "display_name": "Python 3",
   "language": "python",
   "name": "python3"
  },
  "language_info": {
   "codemirror_mode": {
    "name": "ipython",
    "version": 3
   },
   "file_extension": ".py",
   "mimetype": "text/x-python",
   "name": "python",
   "nbconvert_exporter": "python",
   "pygments_lexer": "ipython3",
   "version": "3.5.2"
  }
 },
 "nbformat": 4,
 "nbformat_minor": 2
}
